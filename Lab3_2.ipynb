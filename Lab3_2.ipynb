{
 "cells": [
  {
   "cell_type": "code",
   "execution_count": 1,
   "metadata": {},
   "outputs": [],
   "source": [
    "import random"
   ]
  },
  {
   "cell_type": "code",
   "execution_count": 2,
   "metadata": {},
   "outputs": [],
   "source": [
    "def get_random_prime(n):\n",
    "    numbers = [i for i in range(n+1)]\n",
    "    is_prime = [True for i in range(n+1)]\n",
    "    \n",
    "    i = 2\n",
    "    while i < len(numbers):\n",
    "        a = i**2\n",
    "        while a <= n:\n",
    "            is_prime[a] = False\n",
    "            a += numbers[i]\n",
    "        i += 1\n",
    "    \n",
    "    primes = []\n",
    "    for i in range(n+1):\n",
    "        if is_prime[i]:\n",
    "            primes.append(numbers[i])\n",
    "    return primes[random.randint(0,len(primes)-1)]"
   ]
  },
  {
   "cell_type": "code",
   "execution_count": 3,
   "metadata": {},
   "outputs": [
    {
     "name": "stdout",
     "output_type": "stream",
     "text": [
      "Alice got g: 709235\n",
      "Bob got g: 709235\n",
      "Eva got g: 709235\n"
     ]
    }
   ],
   "source": [
    "g = random.randint(100, 1000000)\n",
    "print(\"Alice got g:\", g)\n",
    "print(\"Bob got g:\", g)\n",
    "print(\"Eva got g:\", g)"
   ]
  },
  {
   "cell_type": "code",
   "execution_count": 5,
   "metadata": {},
   "outputs": [
    {
     "name": "stdout",
     "output_type": "stream",
     "text": [
      "Alice got p: 823148\n",
      "Bob got p: 823148\n",
      "Eva got p: 823148\n"
     ]
    }
   ],
   "source": [
    "p = random.randint(100, 1000000)\n",
    "print(\"Alice got p:\", p)\n",
    "print(\"Bob got p:\", p)\n",
    "print(\"Eva got p:\", p)"
   ]
  },
  {
   "cell_type": "code",
   "execution_count": 8,
   "metadata": {},
   "outputs": [
    {
     "name": "stdout",
     "output_type": "stream",
     "text": [
      "Alice generated a: 348443\n",
      "Alice sent A: 614983\n",
      "Bob got A: 614983\n",
      "Eva got A: 614983\n"
     ]
    }
   ],
   "source": [
    "a = get_random_prime(1000000)\n",
    "print(\"Alice generated a:\", a)\n",
    "A = g**a % p\n",
    "print(\"Alice sent A:\", A)\n",
    "print(\"Bob got A:\", A)\n",
    "print(\"Eva got A:\", A)"
   ]
  },
  {
   "cell_type": "code",
   "execution_count": 9,
   "metadata": {},
   "outputs": [
    {
     "name": "stdout",
     "output_type": "stream",
     "text": [
      "Bob generated b: 860609\n",
      "Bob sent B: 416479\n",
      "Alice got B: 416479\n",
      "Eva got B: 416479\n"
     ]
    }
   ],
   "source": [
    "b = get_random_prime(1000000)\n",
    "print(\"Bob generated b:\", b)\n",
    "B = g**b % p\n",
    "print(\"Bob sent B:\", B)\n",
    "print(\"Alice got B:\", B)\n",
    "print(\"Eva got B:\", B)"
   ]
  },
  {
   "cell_type": "code",
   "execution_count": 12,
   "metadata": {},
   "outputs": [
    {
     "name": "stdout",
     "output_type": "stream",
     "text": [
      "Alice generated 114855\n",
      "Bob generated 114855\n",
      "Eva got nothing, lol\n"
     ]
    }
   ],
   "source": [
    "print(\"Alice generated\", B**a % p)\n",
    "print(\"Bob generated\", A**b % p)\n",
    "print(\"Eva got nothing, lol\")"
   ]
  },
  {
   "cell_type": "code",
   "execution_count": null,
   "metadata": {},
   "outputs": [],
   "source": []
  }
 ],
 "metadata": {
  "kernelspec": {
   "display_name": "Python 3",
   "language": "python",
   "name": "python3"
  },
  "language_info": {
   "codemirror_mode": {
    "name": "ipython",
    "version": 3
   },
   "file_extension": ".py",
   "mimetype": "text/x-python",
   "name": "python",
   "nbconvert_exporter": "python",
   "pygments_lexer": "ipython3",
   "version": "3.8.6"
  }
 },
 "nbformat": 4,
 "nbformat_minor": 4
}
