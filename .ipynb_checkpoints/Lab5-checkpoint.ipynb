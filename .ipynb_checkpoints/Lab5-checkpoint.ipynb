{
 "cells": [
  {
   "cell_type": "code",
   "execution_count": 1,
   "metadata": {},
   "outputs": [],
   "source": [
    "import random"
   ]
  },
  {
   "cell_type": "code",
   "execution_count": 2,
   "metadata": {},
   "outputs": [],
   "source": [
    "def get_random_prime(n):\n",
    "    numbers = [i for i in range(n+1)]\n",
    "    is_prime = [True for i in range(n+1)]\n",
    "    \n",
    "    i = 2\n",
    "    while i < len(numbers):\n",
    "        a = i**2\n",
    "        while a <= n:\n",
    "            is_prime[a] = False\n",
    "            a += numbers[i]\n",
    "        i += 1\n",
    "    \n",
    "    primes = []\n",
    "    for i in range(n+1):\n",
    "        if is_prime[i]:\n",
    "            primes.append(numbers[i])\n",
    "    return primes[random.randint(0,len(primes)-1)]"
   ]
  },
  {
   "cell_type": "code",
   "execution_count": 3,
   "metadata": {},
   "outputs": [],
   "source": [
    "def euler_func(p, q):\n",
    "    return (p - 1) * (q - 1)"
   ]
  },
  {
   "cell_type": "code",
   "execution_count": 4,
   "metadata": {},
   "outputs": [],
   "source": [
    "p = get_random_prime(1000)\n",
    "q = get_random_prime(1000)\n",
    "print('Alice generated prime numbers', p, q)"
   ]
  },
  {
   "cell_type": "code",
   "execution_count": 5,
   "metadata": {},
   "outputs": [],
   "source": [
    "m = p * q\n",
    "print('Alice got module', m)"
   ]
  },
  {
   "cell_type": "code",
   "execution_count": 6,
   "metadata": {},
   "outputs": [],
   "source": [
    "while True:\n",
    "    e = get_random_prime(euler_func(p,q))\n",
    "    if euler_func(p,q) % e != 0:\n",
    "        break\n",
    "print('Alice generated e', e)"
   ]
  },
  {
   "cell_type": "code",
   "execution_count": 7,
   "metadata": {},
   "outputs": [],
   "source": [
    "while True:\n",
    "    d = random.randint(2, 1000000)\n",
    "    if d * e % euler_func(p,q) == 1:\n",
    "        break\n",
    "print('Alice generated d', d)"
   ]
  },
  {
   "cell_type": "code",
   "execution_count": 8,
   "metadata": {},
   "outputs": [],
   "source": [
    "A_ok = (e, m)\n",
    "A_pk = (d, m)\n",
    "\n",
    "print('Alice shared with Bob open key {', e, m, '}')\n",
    "print(\"Eva intercepted Alice's open key {\", e, m, '}')\n",
    "print('Alice generated private key {', d, m, '}')"
   ]
  },
  {
   "cell_type": "code",
   "execution_count": 9,
   "metadata": {},
   "outputs": [
    {
     "name": "stdout",
     "output_type": "stream",
     "text": [
      "Bob generated prime numbers 953 739\n"
     ]
    }
   ],
   "source": [
    "p = get_random_prime(1000)\n",
    "q = get_random_prime(1000)\n",
    "print('Bob generated prime numbers', p, q)"
   ]
  },
  {
   "cell_type": "code",
   "execution_count": 10,
   "metadata": {},
   "outputs": [
    {
     "name": "stdout",
     "output_type": "stream",
     "text": [
      "Bob got module 704267\n"
     ]
    }
   ],
   "source": [
    "m = p * q\n",
    "print('Bob got module', m)"
   ]
  },
  {
   "cell_type": "code",
   "execution_count": 11,
   "metadata": {},
   "outputs": [
    {
     "name": "stdout",
     "output_type": "stream",
     "text": [
      "Bob generated e 24317\n"
     ]
    }
   ],
   "source": [
    "while True:\n",
    "    e = get_random_prime(euler_func(p,q))\n",
    "    if euler_func(p,q) % e != 0:\n",
    "        break\n",
    "print('Bob generated e', e)"
   ]
  },
  {
   "cell_type": "code",
   "execution_count": 12,
   "metadata": {},
   "outputs": [
    {
     "name": "stdout",
     "output_type": "stream",
     "text": [
      "Bob generated d 412901\n"
     ]
    }
   ],
   "source": [
    "while True:\n",
    "    d = random.randint(2, 1000000)\n",
    "    if d * e % euler_func(p,q) == 1:\n",
    "        break\n",
    "print('Bob generated d', d)"
   ]
  },
  {
   "cell_type": "code",
   "execution_count": 13,
   "metadata": {},
   "outputs": [
    {
     "name": "stdout",
     "output_type": "stream",
     "text": [
      "Bob shared with Alice open key { 24317 704267 }\n",
      "Eva intercepted Bob's open key { 24317 704267 }\n",
      "Bob generated private key { 412901 704267 }\n"
     ]
    }
   ],
   "source": [
    "B_ok = (e, m)\n",
    "B_pk = (d, m)\n",
    "\n",
    "print('Bob shared with Alice open key {', e, m, '}')\n",
    "print(\"Eva intercepted Bob's open key {\", e, m, '}')\n",
    "print('Bob generated private key {', d, m, '}')"
   ]
  },
  {
   "cell_type": "code",
   "execution_count": 25,
   "metadata": {},
   "outputs": [
    {
     "name": "stdout",
     "output_type": "stream",
     "text": [
      "Введите сообщение Sandwich makes me strong!\n"
     ]
    }
   ],
   "source": [
    "mes = input('Введите сообщение ')"
   ]
  },
  {
   "cell_type": "code",
   "execution_count": 26,
   "metadata": {},
   "outputs": [
    {
     "name": "stdout",
     "output_type": "stream",
     "text": [
      "Alice sends message\n",
      "[30691, 160326, 504144, 565434, 395880, 326083, 90913, 216221, 469831, 47003, 160326, 472388, 42239, 3130, 469831, 47003, 42239, 469831, 3130, 24149, 506189, 58909, 504144, 101913, 413573]\n",
      "encrypted with Bob's open key\n",
      "Eva intercepted Alice's message\n",
      "[30691, 160326, 504144, 565434, 395880, 326083, 90913, 216221, 469831, 47003, 160326, 472388, 42239, 3130, 469831, 47003, 42239, 469831, 3130, 24149, 506189, 58909, 504144, 101913, 413573]\n"
     ]
    }
   ],
   "source": [
    "encrypt_mes = [ord(x)**B_ok[0] % B_ok[1] for x in mes]\n",
    "\n",
    "print('Alice sends message')\n",
    "print(encrypt_mes)\n",
    "print(\"encrypted with Bob's open key\")\n",
    "print(\"Eva intercepted Alice's message\")\n",
    "print(encrypt_mes)"
   ]
  },
  {
   "cell_type": "code",
   "execution_count": 27,
   "metadata": {},
   "outputs": [
    {
     "name": "stdout",
     "output_type": "stream",
     "text": [
      "Bob decrypted Alice's message with his private key\n",
      "Sandwich makes me strong!\n"
     ]
    }
   ],
   "source": [
    "decrypted_mes = ''.join([chr(x**B_pk[0] % B_pk[1]) for x in encrypt_mes])\n",
    "print(\"Bob decrypted Alice's message with his private key\")\n",
    "print(decrypted_mes)"
   ]
  },
  {
   "cell_type": "code",
   "execution_count": null,
   "metadata": {},
   "outputs": [],
   "source": []
  }
 ],
 "metadata": {
  "kernelspec": {
   "display_name": "Python 3",
   "language": "python",
   "name": "python3"
  },
  "language_info": {
   "codemirror_mode": {
    "name": "ipython",
    "version": 3
   },
   "file_extension": ".py",
   "mimetype": "text/x-python",
   "name": "python",
   "nbconvert_exporter": "python",
   "pygments_lexer": "ipython3",
   "version": "3.8.6"
  }
 },
 "nbformat": 4,
 "nbformat_minor": 4
}
