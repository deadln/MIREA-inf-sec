{
 "cells": [
  {
   "cell_type": "code",
   "execution_count": 1,
   "metadata": {},
   "outputs": [],
   "source": [
    "def get_abc(bias, key):\n",
    "    a = ord('a')\n",
    "    abc = ''.join([chr(i) for i in range(a,a+26)])\n",
    "    for sym in key:\n",
    "        abc = abc.replace(sym, '')\n",
    "    abc = key + abc\n",
    "    for i in range(bias):\n",
    "        abc = abc[-1] + abc[:-1]\n",
    "    return abc\n",
    "\n",
    "def check_key(key):\n",
    "    if len(key) > 26:\n",
    "        return False\n",
    "    syms = ''\n",
    "    for sym in key:\n",
    "        if sym in syms:\n",
    "            return False\n",
    "        else:\n",
    "            syms += sym\n",
    "    return True"
   ]
  },
  {
   "cell_type": "code",
   "execution_count": 2,
   "metadata": {},
   "outputs": [
    {
     "name": "stdout",
     "output_type": "stream",
     "text": [
      "Введите сообщение ass we can\n",
      "Введите сдвиг 6\n",
      "Введите ключ van\n"
     ]
    }
   ],
   "source": [
    "inp = input('Введите сообщение ').lower()\n",
    "bias = int(input('Введите сдвиг '))\n",
    "while True:\n",
    "    key = input('Введите ключ ')\n",
    "    if check_key(key):\n",
    "        break\n",
    "    else:\n",
    "        print(\"Неверный ключ\")\n",
    "    "
   ]
  },
  {
   "cell_type": "code",
   "execution_count": 3,
   "metadata": {},
   "outputs": [
    {
     "name": "stdout",
     "output_type": "stream",
     "text": [
      "vrr wc nvl\n"
     ]
    }
   ],
   "source": [
    "abc = get_abc(bias, key)\n",
    "message1 = ''\n",
    "for sym in inp:\n",
    "    if sym.isalpha():\n",
    "        message1 += abc[(ord(sym) - 97 + bias) % len(abc)]\n",
    "    else:\n",
    "        message1 += sym\n",
    "print(message1)"
   ]
  },
  {
   "cell_type": "code",
   "execution_count": 4,
   "metadata": {},
   "outputs": [
    {
     "name": "stdout",
     "output_type": "stream",
     "text": [
      "vsf re pvn\n"
     ]
    }
   ],
   "source": [
    "message2 = ''\n",
    "c = 0\n",
    "for sym in inp:\n",
    "    if sym.isalpha():\n",
    "        message2 += chr(((ord(sym)-97) + (ord(key[c])-97)) % 26 + 97)\n",
    "        c = (c + 1) % len(key)\n",
    "    else:\n",
    "        message2 += sym\n",
    "print(message2)"
   ]
  },
  {
   "cell_type": "code",
   "execution_count": 5,
   "metadata": {},
   "outputs": [
    {
     "data": {
      "text/plain": [
       "'tuwxyzvanbcdefghijklmopqrs'"
      ]
     },
     "execution_count": 5,
     "metadata": {},
     "output_type": "execute_result"
    }
   ],
   "source": [
    "abc"
   ]
  },
  {
   "cell_type": "code",
   "execution_count": null,
   "metadata": {},
   "outputs": [],
   "source": []
  }
 ],
 "metadata": {
  "kernelspec": {
   "display_name": "Python 3",
   "language": "python",
   "name": "python3"
  },
  "language_info": {
   "codemirror_mode": {
    "name": "ipython",
    "version": 3
   },
   "file_extension": ".py",
   "mimetype": "text/x-python",
   "name": "python",
   "nbconvert_exporter": "python",
   "pygments_lexer": "ipython3",
   "version": "3.8.6"
  }
 },
 "nbformat": 4,
 "nbformat_minor": 4
}
